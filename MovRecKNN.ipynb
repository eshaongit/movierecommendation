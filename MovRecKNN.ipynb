{
  "nbformat": 4,
  "nbformat_minor": 0,
  "metadata": {
    "colab": {
      "name": "MovRecKNN.ipynb",
      "provenance": []
    },
    "kernelspec": {
      "name": "python3",
      "display_name": "Python 3"
    },
    "language_info": {
      "name": "python"
    }
  },
  "cells": [
    {
      "cell_type": "markdown",
      "source": [
        "Movie recommender using the KNN algorithm"
      ],
      "metadata": {
        "id": "fi90jolqt8Q_"
      }
    },
    {
      "cell_type": "code",
      "execution_count": null,
      "metadata": {
        "colab": {
          "base_uri": "https://localhost:8080/"
        },
        "id": "PQnme73jQdWQ",
        "outputId": "7b4f49f4-27d0-4096-ce54-4d6752baea0e"
      },
      "outputs": [
        {
          "output_type": "stream",
          "name": "stdout",
          "text": [
            "Looking in indexes: https://pypi.org/simple, https://us-python.pkg.dev/colab-wheels/public/simple/\n",
            "Collecting fuzzywuzzy\n",
            "  Downloading fuzzywuzzy-0.18.0-py2.py3-none-any.whl (18 kB)\n",
            "Installing collected packages: fuzzywuzzy\n",
            "Successfully installed fuzzywuzzy-0.18.0\n"
          ]
        },
        {
          "output_type": "stream",
          "name": "stderr",
          "text": [
            "/usr/local/lib/python3.7/dist-packages/fuzzywuzzy/fuzz.py:11: UserWarning: Using slow pure-python SequenceMatcher. Install python-Levenshtein to remove this warning\n",
            "  warnings.warn('Using slow pure-python SequenceMatcher. Install python-Levenshtein to remove this warning')\n"
          ]
        }
      ],
      "source": [
        "import pandas as pd\n",
        "import pandas as pd\n",
        "from scipy.sparse import csr_matrix\n",
        "from sklearn.neighbors import NearestNeighbors\n",
        "!pip install fuzzywuzzy\n",
        "from fuzzywuzzy import process"
      ]
    },
    {
      "cell_type": "code",
      "source": [
        "movie_df = pd.read_csv('movies.csv')\n",
        "movie_df = movie_df[['movieId','title']]\n",
        "ratings_df=pd.read_csv('ratings.csv')\n",
        "ratings_df=ratings_df[['userId','movieId', 'rating']]"
      ],
      "metadata": {
        "id": "T-KagJfnQkrM"
      },
      "execution_count": null,
      "outputs": []
    },
    {
      "cell_type": "code",
      "source": [
        "users=ratings_df.pivot(index='movieId', columns='userId',values='rating').fillna(0)\n",
        "users_matrix=csr_matrix(users.values)"
      ],
      "metadata": {
        "id": "yxyEO-EcRX_I"
      },
      "execution_count": null,
      "outputs": []
    },
    {
      "cell_type": "code",
      "source": [
        "model_knn= NearestNeighbors(metric='cosine', algorithm='brute', n_neighbors=20)"
      ],
      "metadata": {
        "id": "lGrKRDTkRaCb"
      },
      "execution_count": null,
      "outputs": []
    },
    {
      "cell_type": "code",
      "source": [
        "model_knn.fit(users_matrix)"
      ],
      "metadata": {
        "colab": {
          "base_uri": "https://localhost:8080/"
        },
        "id": "tK2LknZTRdJm",
        "outputId": "aa201a64-05fb-4668-9966-2f2781a0ded7"
      },
      "execution_count": null,
      "outputs": [
        {
          "output_type": "execute_result",
          "data": {
            "text/plain": [
              "NearestNeighbors(algorithm='brute', metric='cosine', n_neighbors=20)"
            ]
          },
          "metadata": {},
          "execution_count": 20
        }
      ]
    },
    {
      "cell_type": "code",
      "source": [
        "def recommender(movie_name, data,model, n_recommendations ):\n",
        "    model.fit(data)\n",
        "    idx=process.extractOne(movie_name, movie_df['title'])[2]\n",
        "    print('The Recommendations for the movie ', movie_df['title'][idx] )\n",
        "    distances, indices=model.kneighbors(data[idx], n_neighbors=n_recommendations)\n",
        "    for i in indices:\n",
        "        print(movie_df['title'][i].where(i!=idx))"
      ],
      "metadata": {
        "id": "kAnwhkpQRf8V"
      },
      "execution_count": null,
      "outputs": []
    },
    {
      "cell_type": "code",
      "source": [
        "recommender('iron man', users_matrix, model_knn,10)"
      ],
      "metadata": {
        "colab": {
          "base_uri": "https://localhost:8080/"
        },
        "id": "upE6lzXBRmZJ",
        "outputId": "8f4d5cfc-77bf-4372-bda5-7804f8555e01"
      },
      "execution_count": null,
      "outputs": [
        {
          "output_type": "stream",
          "name": "stdout",
          "text": [
            "Iron Man (2008) Index:  6743\n",
            "The Recommendations for the movie  Iron Man (2008)\n",
            "6743                                            NaN\n",
            "7197                                  Garage (2007)\n",
            "7195                        Merry Madagascar (2009)\n",
            "7354                             A-Team, The (2010)\n",
            "6726                         Superhero Movie (2008)\n",
            "7137                         Thirst (Bakjwi) (2009)\n",
            "7026                                 Scorpio (1973)\n",
            "7571                                 Win Win (2011)\n",
            "3880                  Look Who's Talking Now (1993)\n",
            "6388    After the Wedding (Efter brylluppet) (2006)\n",
            "Name: title, dtype: object\n"
          ]
        }
      ]
    }
  ]
}